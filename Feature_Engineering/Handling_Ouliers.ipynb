{
 "cells": [
  {
   "cell_type": "code",
   "execution_count": 139,
   "id": "05eb4cba",
   "metadata": {},
   "outputs": [],
   "source": [
    "import numpy as np"
   ]
  },
  {
   "cell_type": "code",
   "execution_count": 140,
   "id": "8496c6be",
   "metadata": {},
   "outputs": [],
   "source": [
    "data = [1 , 3, 7, 8, 5, 12, 14, 21, 13, 18, 9, 6, 15, 20, 11, 4, 17, 2, 19, 16, 10, 22, 1, 24, 23, 25, 55]"
   ]
  },
  {
   "cell_type": "code",
   "execution_count": 141,
   "id": "ebf3cb7d",
   "metadata": {},
   "outputs": [],
   "source": [
    "min, q1 , median, q3, max = np.percentile(data, [0, 25, 50, 75, 100])"
   ]
  },
  {
   "cell_type": "code",
   "execution_count": 142,
   "id": "33ac9aa3",
   "metadata": {},
   "outputs": [
    {
     "data": {
      "text/plain": [
       "(np.float64(1.0),\n",
       " np.float64(6.5),\n",
       " np.float64(13.0),\n",
       " np.float64(19.5),\n",
       " np.float64(55.0))"
      ]
     },
     "execution_count": 142,
     "metadata": {},
     "output_type": "execute_result"
    }
   ],
   "source": [
    "min, q1 , median, q3, max"
   ]
  },
  {
   "cell_type": "code",
   "execution_count": 143,
   "id": "67eea34c",
   "metadata": {},
   "outputs": [],
   "source": [
    "IQR = q3 - q1"
   ]
  },
  {
   "cell_type": "code",
   "execution_count": 144,
   "id": "f04b14c8",
   "metadata": {},
   "outputs": [
    {
     "data": {
      "text/plain": [
       "np.float64(13.0)"
      ]
     },
     "execution_count": 144,
     "metadata": {},
     "output_type": "execute_result"
    }
   ],
   "source": [
    "IQR"
   ]
  },
  {
   "cell_type": "code",
   "execution_count": 145,
   "id": "bb4a273b",
   "metadata": {},
   "outputs": [],
   "source": [
    "lower_fence = q1 - 1.5 * IQR\n",
    "higher_fence = q3 + 1.5 * IQR"
   ]
  },
  {
   "cell_type": "code",
   "execution_count": 146,
   "id": "fb439667",
   "metadata": {},
   "outputs": [
    {
     "data": {
      "text/plain": [
       "(np.float64(-13.0), np.float64(39.0))"
      ]
     },
     "execution_count": 146,
     "metadata": {},
     "output_type": "execute_result"
    }
   ],
   "source": [
    "lower_fence, higher_fence"
   ]
  },
  {
   "cell_type": "code",
   "execution_count": 147,
   "id": "d5f46642",
   "metadata": {},
   "outputs": [
    {
     "name": "stdout",
     "output_type": "stream",
     "text": [
      "[55]\n"
     ]
    }
   ],
   "source": [
    "outliers = []\n",
    "\n",
    "for x in data: \n",
    "    if x < float(lower_fence) or x > float(higher_fence):\n",
    "        outliers.append(x)\n",
    "\n",
    "print(outliers)"
   ]
  },
  {
   "cell_type": "code",
   "execution_count": 148,
   "id": "4ad7e199",
   "metadata": {},
   "outputs": [],
   "source": [
    "# BoxPlot\n",
    "\n",
    "import matplotlib.pyplot as plt\n",
    "import seaborn as sns"
   ]
  },
  {
   "cell_type": "code",
   "execution_count": 149,
   "id": "bb21b2f9",
   "metadata": {},
   "outputs": [
    {
     "data": {
      "text/plain": [
       "<Axes: >"
      ]
     },
     "execution_count": 149,
     "metadata": {},
     "output_type": "execute_result"
    },
    {
     "data": {
      "image/png": "[encoded data removed]",
      "text/plain": [
       "<Figure size 640x480 with 1 Axes>"
      ]
     },
     "metadata": {},
     "output_type": "display_data"
    }
   ],
   "source": [
    "sns.boxplot(data)"
   ]
  },
  {
   "cell_type": "code",
   "execution_count": 152,
   "id": "1958f326",
   "metadata": {},
   "outputs": [
    {
     "data": {
      "image/png": "[encoded data removed]",
      "text/plain": [
       "<Figure size 1000x200 with 1 Axes>"
      ]
     },
     "metadata": {},
     "output_type": "display_data"
    }
   ],
   "source": [
    "plt.figure(figsize=(10, 2)) \n",
    "\n",
    "plt.boxplot(data, vert=False, patch_artist=True, widths=0.6)\n",
    "\n",
    "for val, label in zip([min, q1, median, q3, max], ['Min', 'Q1', 'Median', 'Q3', 'Max']):\n",
    "    plt.text(val, 1.05, f'{label}\\n{val}', ha='center', fontsize=9)"
   ]
  }
 ],
 "metadata": {
  "kernelspec": {
   "display_name": "Python 3",
   "language": "python",
   "name": "python3"
  },
  "language_info": {
   "codemirror_mode": {
    "name": "ipython",
    "version": 3
   },
   "file_extension": ".py",
   "mimetype": "text/x-python",
   "name": "python",
   "nbconvert_exporter": "python",
   "pygments_lexer": "ipython3",
   "version": "3.10.0"
  }
 },
 "nbformat": 4,
 "nbformat_minor": 5
}
