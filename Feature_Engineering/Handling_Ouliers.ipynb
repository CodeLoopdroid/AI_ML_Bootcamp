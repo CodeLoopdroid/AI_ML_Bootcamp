{
 "cells": [
  {
   "cell_type": "code",
   "execution_count": 2,
   "id": "05eb4cba",
   "metadata": {},
   "outputs": [],
   "source": [
    "import numpy as np"
   ]
  },
  {
   "cell_type": "code",
   "execution_count": 3,
   "id": "8496c6be",
   "metadata": {},
   "outputs": [],
   "source": [
    "data = [3, 7, 8, 5, 12, 14, 21, 13, 18, 9, 6, 15, 20, 11, 4, 17, 2, 19, 16, 10, 22, 1, 24, 23, 25]"
   ]
  },
  {
   "cell_type": "code",
   "execution_count": 5,
   "id": "ebf3cb7d",
   "metadata": {},
   "outputs": [],
   "source": [
    "min, q1 , median, q3, max = np.percentile(data, [0, 0.25, 0.5, 0.75, 1])"
   ]
  },
  {
   "cell_type": "code",
   "execution_count": 9,
   "id": "33ac9aa3",
   "metadata": {},
   "outputs": [
    {
     "data": {
      "text/plain": [
       "(np.float64(1.0),\n",
       " np.float64(1.06),\n",
       " np.float64(1.12),\n",
       " np.float64(1.18),\n",
       " np.float64(1.24))"
      ]
     },
     "execution_count": 9,
     "metadata": {},
     "output_type": "execute_result"
    }
   ],
   "source": [
    "min, q1 , median, q3, max"
   ]
  },
  {
   "cell_type": "code",
   "execution_count": 10,
   "id": "67eea34c",
   "metadata": {},
   "outputs": [],
   "source": [
    "IQR = q3 - q1"
   ]
  },
  {
   "cell_type": "code",
   "execution_count": 11,
   "id": "bb4a273b",
   "metadata": {},
   "outputs": [],
   "source": [
    "lower_fence = q1 - 1.5 * IQR\n",
    "higher_freq = q3 + 1.5 * IQR"
   ]
  },
  {
   "cell_type": "code",
   "execution_count": null,
   "id": "fb439667",
   "metadata": {},
   "outputs": [],
   "source": []
  }
 ],
 "metadata": {
  "kernelspec": {
   "display_name": "Python 3",
   "language": "python",
   "name": "python3"
  },
  "language_info": {
   "codemirror_mode": {
    "name": "ipython",
    "version": 3
   },
   "file_extension": ".py",
   "mimetype": "text/x-python",
   "name": "python",
   "nbconvert_exporter": "python",
   "pygments_lexer": "ipython3",
   "version": "3.10.0"
  }
 },
 "nbformat": 4,
 "nbformat_minor": 5
}
