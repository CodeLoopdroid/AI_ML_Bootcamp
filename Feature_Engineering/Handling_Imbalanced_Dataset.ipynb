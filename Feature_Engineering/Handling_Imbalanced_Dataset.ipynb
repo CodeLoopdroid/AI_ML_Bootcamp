{
 "cells": [
  {
   "cell_type": "code",
   "execution_count": 1,
   "id": "cf28845c",
   "metadata": {},
   "outputs": [],
   "source": [
    "# Creating Imbalanced Dataset\n",
    "\n",
    "import numpy as np\n",
    "import pandas as pd"
   ]
  },
  {
   "cell_type": "code",
   "execution_count": 2,
   "id": "b666d061",
   "metadata": {},
   "outputs": [],
   "source": [
    "np.random.seed(90)\n",
    "\n",
    "n_samples = 1000\n",
    "class_ratio =  0.9\n",
    "\n",
    "n_class_0 = int(n_samples * class_ratio)\n",
    "n_class_1 = n_samples - n_class_0"
   ]
  },
  {
   "cell_type": "code",
   "execution_count": 3,
   "id": "d069927c",
   "metadata": {},
   "outputs": [
    {
     "name": "stdout",
     "output_type": "stream",
     "text": [
      "900 100\n"
     ]
    }
   ],
   "source": [
    "print(n_class_0, n_class_1)"
   ]
  },
  {
   "cell_type": "code",
   "execution_count": null,
   "id": "6ad73fed",
   "metadata": {},
   "outputs": [],
   "source": []
  }
 ],
 "metadata": {
  "kernelspec": {
   "display_name": "Python 3",
   "language": "python",
   "name": "python3"
  },
  "language_info": {
   "codemirror_mode": {
    "name": "ipython",
    "version": 3
   },
   "file_extension": ".py",
   "mimetype": "text/x-python",
   "name": "python",
   "nbconvert_exporter": "python",
   "pygments_lexer": "ipython3",
   "version": "3.10.0"
  }
 },
 "nbformat": 4,
 "nbformat_minor": 5
}
