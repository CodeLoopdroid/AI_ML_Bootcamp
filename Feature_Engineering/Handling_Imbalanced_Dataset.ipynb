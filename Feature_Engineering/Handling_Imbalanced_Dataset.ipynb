{
 "cells": [
  {
   "cell_type": "code",
   "execution_count": 1,
   "id": "cf28845c",
   "metadata": {},
   "outputs": [],
   "source": [
    "# Creating Imbalanced Dataset\n",
    "\n",
    "import numpy as np\n",
    "import pandas as pd"
   ]
  },
  {
   "cell_type": "code",
   "execution_count": 2,
   "id": "b666d061",
   "metadata": {},
   "outputs": [],
   "source": [
    "np.random.seed(90)\n",
    "\n",
    "n_samples = 1000\n",
    "class_ratio =  0.9\n",
    "\n",
    "n_class_0 = int(n_samples * class_ratio)\n",
    "n_class_1 = n_samples - n_class_0"
   ]
  },
  {
   "cell_type": "code",
   "execution_count": 3,
   "id": "d069927c",
   "metadata": {},
   "outputs": [
    {
     "name": "stdout",
     "output_type": "stream",
     "text": [
      "900 100\n"
     ]
    }
   ],
   "source": [
    "print(n_class_0, n_class_1)"
   ]
  },
  {
   "cell_type": "code",
   "execution_count": 4,
   "id": "6ad73fed",
   "metadata": {},
   "outputs": [],
   "source": [
    "class_0 = pd.DataFrame({'feature_1' : np.random.normal(size = n_class_0, loc=0, scale=1),\n",
    "                        'feature_2' : np.random.normal(size=n_class_0, loc = 0 , scale = 1),\n",
    "                        'target' : [0] * n_class_0})\n",
    "class_1 = pd.DataFrame({'feature_1' : np.random.normal(loc = 0 , scale = 1, size = n_class_1),\n",
    "                        'feature_2' : np.random.normal(loc = 0 , scale = 1, size = n_class_1),\n",
    "                        'target' : [1] * n_class_1})"
   ]
  },
  {
   "cell_type": "code",
   "execution_count": 5,
   "id": "01f5c04c",
   "metadata": {},
   "outputs": [],
   "source": [
    "df = pd.concat([class_0, class_1]).reset_index(drop=True)"
   ]
  },
  {
   "cell_type": "code",
   "execution_count": 8,
   "id": "1fb093e1",
   "metadata": {},
   "outputs": [
    {
     "data": {
      "text/plain": [
       "target\n",
       "0    900\n",
       "1    100\n",
       "Name: count, dtype: int64"
      ]
     },
     "execution_count": 8,
     "metadata": {},
     "output_type": "execute_result"
    }
   ],
   "source": [
    "df['target'].value_counts()"
   ]
  },
  {
   "cell_type": "code",
   "execution_count": null,
   "id": "a85cdb77",
   "metadata": {},
   "outputs": [],
   "source": []
  }
 ],
 "metadata": {
  "kernelspec": {
   "display_name": "Python 3",
   "language": "python",
   "name": "python3"
  },
  "language_info": {
   "codemirror_mode": {
    "name": "ipython",
    "version": 3
   },
   "file_extension": ".py",
   "mimetype": "text/x-python",
   "name": "python",
   "nbconvert_exporter": "python",
   "pygments_lexer": "ipython3",
   "version": "3.10.0"
  }
 },
 "nbformat": 4,
 "nbformat_minor": 5
}
