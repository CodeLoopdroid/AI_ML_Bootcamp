{
 "cells": [
  {
   "cell_type": "code",
   "execution_count": 127,
   "id": "cf28845c",
   "metadata": {},
   "outputs": [],
   "source": [
    "# Creating Imbalanced Dataset\n",
    "\n",
    "import numpy as np\n",
    "import pandas as pd"
   ]
  },
  {
   "cell_type": "code",
   "execution_count": 128,
   "id": "b666d061",
   "metadata": {},
   "outputs": [],
   "source": [
    "np.random.seed(90)\n",
    "\n",
    "n_samples = 1000\n",
    "class_ratio =  0.9\n",
    "\n",
    "n_class_0 = int(n_samples * class_ratio)\n",
    "n_class_1 = n_samples - n_class_0"
   ]
  },
  {
   "cell_type": "code",
   "execution_count": 129,
   "id": "d069927c",
   "metadata": {},
   "outputs": [
    {
     "name": "stdout",
     "output_type": "stream",
     "text": [
      "900 100\n"
     ]
    }
   ],
   "source": [
    "print(n_class_0, n_class_1)"
   ]
  },
  {
   "cell_type": "code",
   "execution_count": 130,
   "id": "6ad73fed",
   "metadata": {},
   "outputs": [],
   "source": [
    "class_0 = pd.DataFrame({'feature_1' : np.random.normal(size = n_class_0, loc=0, scale=1),\n",
    "                        'feature_2' : np.random.normal(size=n_class_0, loc = 0 , scale = 1),\n",
    "                        'target' : [0] * n_class_0})\n",
    "class_1 = pd.DataFrame({'feature_1' : np.random.normal(loc = 0 , scale = 1, size = n_class_1),\n",
    "                        'feature_2' : np.random.normal(loc = 0 , scale = 1, size = n_class_1),\n",
    "                        'target' : [1] * n_class_1})"
   ]
  },
  {
   "cell_type": "code",
   "execution_count": 131,
   "id": "01f5c04c",
   "metadata": {},
   "outputs": [],
   "source": [
    "df = pd.concat([class_0, class_1]).reset_index(drop=True)"
   ]
  },
  {
   "cell_type": "code",
   "execution_count": 132,
   "id": "1fb093e1",
   "metadata": {},
   "outputs": [
    {
     "data": {
      "text/plain": [
       "target\n",
       "0    900\n",
       "1    100\n",
       "Name: count, dtype: int64"
      ]
     },
     "execution_count": 132,
     "metadata": {},
     "output_type": "execute_result"
    }
   ],
   "source": [
    "df['target'].value_counts()"
   ]
  },
  {
   "cell_type": "code",
   "execution_count": 133,
   "id": "a85cdb77",
   "metadata": {},
   "outputs": [],
   "source": [
    "#Upsampling\n",
    "\n",
    "from sklearn.utils import resample"
   ]
  },
  {
   "cell_type": "code",
   "execution_count": 134,
   "id": "c0262b81",
   "metadata": {},
   "outputs": [],
   "source": [
    "df_major = df[df['target'] == 0]\n",
    "df_minor = df[df['target'] == 1]"
   ]
  },
  {
   "cell_type": "code",
   "execution_count": 135,
   "id": "768d92a4",
   "metadata": {},
   "outputs": [
    {
     "data": {
      "text/html": [
       "<div>\n",
       "<style scoped>\n",
       "    .dataframe tbody tr th:only-of-type {\n",
       "        vertical-align: middle;\n",
       "    }\n",
       "\n",
       "    .dataframe tbody tr th {\n",
       "        vertical-align: top;\n",
       "    }\n",
       "\n",
       "    .dataframe thead th {\n",
       "        text-align: right;\n",
       "    }\n",
       "</style>\n",
       "<table border=\"1\" class=\"dataframe\">\n",
       "  <thead>\n",
       "    <tr style=\"text-align: right;\">\n",
       "      <th></th>\n",
       "      <th>feature_1</th>\n",
       "      <th>feature_2</th>\n",
       "      <th>target</th>\n",
       "    </tr>\n",
       "  </thead>\n",
       "  <tbody>\n",
       "    <tr>\n",
       "      <th>900</th>\n",
       "      <td>1.743452</td>\n",
       "      <td>1.282518</td>\n",
       "      <td>1</td>\n",
       "    </tr>\n",
       "    <tr>\n",
       "      <th>901</th>\n",
       "      <td>-1.021364</td>\n",
       "      <td>-0.381812</td>\n",
       "      <td>1</td>\n",
       "    </tr>\n",
       "    <tr>\n",
       "      <th>902</th>\n",
       "      <td>-0.400049</td>\n",
       "      <td>1.093905</td>\n",
       "      <td>1</td>\n",
       "    </tr>\n",
       "    <tr>\n",
       "      <th>903</th>\n",
       "      <td>-1.107115</td>\n",
       "      <td>1.171848</td>\n",
       "      <td>1</td>\n",
       "    </tr>\n",
       "    <tr>\n",
       "      <th>904</th>\n",
       "      <td>0.073391</td>\n",
       "      <td>1.819609</td>\n",
       "      <td>1</td>\n",
       "    </tr>\n",
       "    <tr>\n",
       "      <th>...</th>\n",
       "      <td>...</td>\n",
       "      <td>...</td>\n",
       "      <td>...</td>\n",
       "    </tr>\n",
       "    <tr>\n",
       "      <th>995</th>\n",
       "      <td>0.988445</td>\n",
       "      <td>1.601265</td>\n",
       "      <td>1</td>\n",
       "    </tr>\n",
       "    <tr>\n",
       "      <th>996</th>\n",
       "      <td>0.353573</td>\n",
       "      <td>0.107820</td>\n",
       "      <td>1</td>\n",
       "    </tr>\n",
       "    <tr>\n",
       "      <th>997</th>\n",
       "      <td>1.200688</td>\n",
       "      <td>-0.423984</td>\n",
       "      <td>1</td>\n",
       "    </tr>\n",
       "    <tr>\n",
       "      <th>998</th>\n",
       "      <td>0.499959</td>\n",
       "      <td>0.233206</td>\n",
       "      <td>1</td>\n",
       "    </tr>\n",
       "    <tr>\n",
       "      <th>999</th>\n",
       "      <td>-0.573958</td>\n",
       "      <td>0.594712</td>\n",
       "      <td>1</td>\n",
       "    </tr>\n",
       "  </tbody>\n",
       "</table>\n",
       "<p>100 rows × 3 columns</p>\n",
       "</div>"
      ],
      "text/plain": [
       "     feature_1  feature_2  target\n",
       "900   1.743452   1.282518       1\n",
       "901  -1.021364  -0.381812       1\n",
       "902  -0.400049   1.093905       1\n",
       "903  -1.107115   1.171848       1\n",
       "904   0.073391   1.819609       1\n",
       "..         ...        ...     ...\n",
       "995   0.988445   1.601265       1\n",
       "996   0.353573   0.107820       1\n",
       "997   1.200688  -0.423984       1\n",
       "998   0.499959   0.233206       1\n",
       "999  -0.573958   0.594712       1\n",
       "\n",
       "[100 rows x 3 columns]"
      ]
     },
     "execution_count": 135,
     "metadata": {},
     "output_type": "execute_result"
    }
   ],
   "source": [
    "df_minor"
   ]
  },
  {
   "cell_type": "code",
   "execution_count": 136,
   "id": "9c9b8763",
   "metadata": {},
   "outputs": [],
   "source": [
    "df_minor_new = resample(df_minor, replace = True, n_samples=len(df_major), random_state=0)"
   ]
  },
  {
   "cell_type": "code",
   "execution_count": 137,
   "id": "5d4caaaa",
   "metadata": {},
   "outputs": [
    {
     "data": {
      "text/plain": [
       "(900, 3)"
      ]
     },
     "execution_count": 137,
     "metadata": {},
     "output_type": "execute_result"
    }
   ],
   "source": [
    "df_minor_new.shape"
   ]
  },
  {
   "cell_type": "code",
   "execution_count": 138,
   "id": "2fba50cb",
   "metadata": {},
   "outputs": [],
   "source": [
    "df_upsample = pd.concat([df_major, df_minor_new]).reset_index(drop=True)"
   ]
  },
  {
   "cell_type": "code",
   "execution_count": 139,
   "id": "4c74c4c0",
   "metadata": {},
   "outputs": [
    {
     "data": {
      "text/plain": [
       "target\n",
       "0    900\n",
       "1    900\n",
       "Name: count, dtype: int64"
      ]
     },
     "execution_count": 139,
     "metadata": {},
     "output_type": "execute_result"
    }
   ],
   "source": [
    "df_upsample['target'].value_counts()"
   ]
  },
  {
   "cell_type": "code",
   "execution_count": 140,
   "id": "5361657e",
   "metadata": {},
   "outputs": [],
   "source": [
    "#Down Sampling\n",
    "\n",
    "n_major = df[df['target'] == 0]\n",
    "n_minor = df[df['target'] == 1]"
   ]
  },
  {
   "cell_type": "code",
   "execution_count": 141,
   "id": "5ac6aad6",
   "metadata": {},
   "outputs": [],
   "source": [
    "df_downsample = resample(n_major, replace = False,  n_samples=len(n_minor), random_state=0)"
   ]
  },
  {
   "cell_type": "code",
   "execution_count": 142,
   "id": "b4e81533",
   "metadata": {},
   "outputs": [],
   "source": [
    "df_down = pd.concat([df_downsample, df_minor]).reset_index(drop = True)"
   ]
  },
  {
   "cell_type": "code",
   "execution_count": 143,
   "id": "10e4304d",
   "metadata": {},
   "outputs": [
    {
     "data": {
      "text/plain": [
       "target\n",
       "0    100\n",
       "1    100\n",
       "Name: count, dtype: int64"
      ]
     },
     "execution_count": 143,
     "metadata": {},
     "output_type": "execute_result"
    }
   ],
   "source": [
    "df_down['target'].value_counts()"
   ]
  }
 ],
 "metadata": {
  "kernelspec": {
   "display_name": "Python 3",
   "language": "python",
   "name": "python3"
  },
  "language_info": {
   "codemirror_mode": {
    "name": "ipython",
    "version": 3
   },
   "file_extension": ".py",
   "mimetype": "text/x-python",
   "name": "python",
   "nbconvert_exporter": "python",
   "pygments_lexer": "ipython3",
   "version": "3.10.0"
  }
 },
 "nbformat": 4,
 "nbformat_minor": 5
}
