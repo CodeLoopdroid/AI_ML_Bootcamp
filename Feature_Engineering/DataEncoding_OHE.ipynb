{
 "cells": [
  {
   "cell_type": "code",
   "execution_count": 75,
   "id": "28ef57a9",
   "metadata": {},
   "outputs": [],
   "source": [
    "from sklearn.preprocessing import OneHotEncoder\n",
    "import pandas as pd"
   ]
  },
  {
   "cell_type": "code",
   "execution_count": 76,
   "id": "d75e8c8b",
   "metadata": {},
   "outputs": [],
   "source": [
    "data = {\n",
    "    \"Color\": [\"Red\", \"Blue\", \"Green\", \"Red\", \"Blue\", \"Red\", \"Green\", \"Blue\", \"Red\", \"Green\"],\n",
    "    \"Category\": [\"A\", \"B\", \"A\", \"C\", \"B\", \"A\", \"C\", \"B\", \"C\", \"A\"]\n",
    "}\n",
    "data = pd.DataFrame(data)"
   ]
  },
  {
   "cell_type": "code",
   "execution_count": 77,
   "id": "2d1a8b28",
   "metadata": {},
   "outputs": [],
   "source": [
    "encoder = OneHotEncoder()"
   ]
  },
  {
   "cell_type": "code",
   "execution_count": 78,
   "id": "2e85b0d3",
   "metadata": {},
   "outputs": [],
   "source": [
    "encoded = encoder.fit_transform(data[['Color']]).toarray()"
   ]
  },
  {
   "cell_type": "code",
   "execution_count": 79,
   "id": "6819c1ba",
   "metadata": {},
   "outputs": [
    {
     "data": {
      "text/plain": [
       "array([[0., 0., 1.],\n",
       "       [1., 0., 0.],\n",
       "       [0., 1., 0.],\n",
       "       [0., 0., 1.],\n",
       "       [1., 0., 0.],\n",
       "       [0., 0., 1.],\n",
       "       [0., 1., 0.],\n",
       "       [1., 0., 0.],\n",
       "       [0., 0., 1.],\n",
       "       [0., 1., 0.]])"
      ]
     },
     "execution_count": 79,
     "metadata": {},
     "output_type": "execute_result"
    }
   ],
   "source": [
    "encoded"
   ]
  },
  {
   "cell_type": "code",
   "execution_count": 81,
   "id": "fa67e028",
   "metadata": {},
   "outputs": [],
   "source": [
    "encoded_df = pd.DataFrame(encoded, columns = encoder.get_feature_names_out())"
   ]
  },
  {
   "cell_type": "code",
   "execution_count": null,
   "id": "08d6289a",
   "metadata": {},
   "outputs": [],
   "source": []
  }
 ],
 "metadata": {
  "kernelspec": {
   "display_name": "Python 3",
   "language": "python",
   "name": "python3"
  },
  "language_info": {
   "codemirror_mode": {
    "name": "ipython",
    "version": 3
   },
   "file_extension": ".py",
   "mimetype": "text/x-python",
   "name": "python",
   "nbconvert_exporter": "python",
   "pygments_lexer": "ipython3",
   "version": "3.10.0"
  }
 },
 "nbformat": 4,
 "nbformat_minor": 5
}
