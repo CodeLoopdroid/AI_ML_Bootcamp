{
 "cells": [
  {
   "cell_type": "markdown",
   "id": "7bbaddd0",
   "metadata": {},
   "source": [
    "### MCAR (Missing Completely at Random)\n",
    "\n",
    "Context: Survey papers get damaged by rain randomly.\n",
    "\n",
    "Missingness has nothing to do with the person’s age, income, or answers, it’s just chance.\n",
    "\n",
    "Impact: Safe to ignore/delete missing rows, no bias.\n",
    "\n",
    "### MAR (Missing At Random)\n",
    "\n",
    "Context: In a survey, young people are less likely to report their income.\n",
    "\n",
    "Missingness depends on age (observed), but not on the actual income itself.\n",
    "\n",
    "Impact: Can adjust using observed variables (like age) to reduce bias.\n",
    "\n",
    "### MNAR (Missing Not At Random)\n",
    "\n",
    "Context: In the same survey, rich people choose not to report their income.\n",
    "\n",
    "Missingness depends on the actual income value (unobserved).\n",
    "\n",
    "Impact: Hardest case, requires special modeling or more data."
   ]
  },
  {
   "cell_type": "code",
   "execution_count": 1,
   "id": "cc1156c0",
   "metadata": {},
   "outputs": [],
   "source": [
    "import seaborn as sns"
   ]
  },
  {
   "cell_type": "code",
   "execution_count": 2,
   "id": "a00e2b7f",
   "metadata": {},
   "outputs": [],
   "source": [
    "df = sns.load_dataset('titanic')"
   ]
  },
  {
   "cell_type": "code",
   "execution_count": null,
   "id": "9db7440e",
   "metadata": {},
   "outputs": [],
   "source": []
  }
 ],
 "metadata": {
  "kernelspec": {
   "display_name": "Python 3",
   "language": "python",
   "name": "python3"
  },
  "language_info": {
   "codemirror_mode": {
    "name": "ipython",
    "version": 3
   },
   "file_extension": ".py",
   "mimetype": "text/x-python",
   "name": "python",
   "nbconvert_exporter": "python",
   "pygments_lexer": "ipython3",
   "version": "3.10.0"
  }
 },
 "nbformat": 4,
 "nbformat_minor": 5
}
